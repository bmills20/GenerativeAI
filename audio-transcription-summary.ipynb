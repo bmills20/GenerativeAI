{
 "cells": [
  {
   "cell_type": "code",
   "execution_count": null,
   "metadata": {},
   "outputs": [],
   "source": [
    "# Audio Feature Extraction with Wav2Vec2\n",
    "\n",
    "# This notebook imports necessary libraries and loads a pretrained Wav2Vec2 model for audio classification. \n",
    "# It defines a preprocessing function to extract features from the audio data in the MInDS-14 dataset using the pretrained Wav2Vec2 model and feature extractor.\n",
    "# Finally, it runs the feature extraction process and prints the output.\n",
    "\n",
    "# See full comments in .py file\n",
    "\n",
    "from datasets import load_dataset, Audio\n",
    "from transformers import AutoFeatureExtractor, AutoModelForAudioClassification\n",
    "from huggingface_hub import notebook_login\n",
    "\n"
   ]
  }
 ],
 "metadata": {
  "kernelspec": {
   "display_name": "Python 3",
   "language": "python",
   "name": "python3"
  },
  "language_info": {
   "name": "python",
   "version": "3.9.2"
  },
  "orig_nbformat": 4
 },
 "nbformat": 4,
 "nbformat_minor": 2
}
